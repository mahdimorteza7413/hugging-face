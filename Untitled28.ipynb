{
  "nbformat": 4,
  "nbformat_minor": 0,
  "metadata": {
    "colab": {
      "provenance": []
    },
    "kernelspec": {
      "name": "python3",
      "display_name": "Python 3"
    },
    "language_info": {
      "name": "python"
    }
  },
  "cells": [
    {
      "cell_type": "code",
      "execution_count": null,
      "metadata": {
        "id": "6U6xOurlbJf3"
      },
      "outputs": [],
      "source": [
        "!pip install ultralyticsplus==0.0.28 ultralytics==8.0.43\n"
      ]
    },
    {
      "cell_type": "code",
      "source": [
        "# Import required modules\n",
        "import cv2\n",
        "import numpy as np\n",
        "from ultralyticsplus import YOLO, render_result\n",
        "\n",
        "# Load your custom YOLOv5 model\n",
        "model = YOLO('foduucom/stockmarket-future-prediction')\n",
        "\n",
        "# Configure model parameters\n",
        "model.overrides['conf'] = 0.25   # Confidence threshold\n",
        "model.overrides['iou'] = 0.45    # Intersection over Union (IoU) threshold\n",
        "model.overrides['agnostic_nms'] = False  # Class-agnostic Non-Maximum Suppression (NMS)\n",
        "model.overrides['max_det'] = 1000  # Maximum number of detections per image\n",
        "\n",
        "# Define the input image path\n",
        "image_path = \"/content/sd.PNG\"\n",
        "\n",
        "# Run the model and get predictions\n",
        "results = model.predict(image_path)\n",
        "\n",
        "# Display the predicted bounding box coordinates\n",
        "print(results[0].boxes)\n",
        "\n",
        "# Visualize the results and save them into a file named 'abc.png'\n",
        "visualized_img = np.array(render_result(model=model, image=image_path, result=results[0]).convert(), dtype='uint8')\n",
        "cv2.imwrite(\"abc.png\", visualized_img)\n",
        "\n",
        "# Show the generated image ('abc.png')\n",
        "from PIL import Image\n",
        "Image.open(\"abc.png\").show()"
      ],
      "metadata": {
        "colab": {
          "base_uri": "https://localhost:8080/"
        },
        "id": "2ep7XqcEwI8w",
        "outputId": "f88d0302-c115-4d23-989c-a4e8d6cfb646"
      },
      "execution_count": 9,
      "outputs": [
        {
          "output_type": "stream",
          "name": "stderr",
          "text": [
            "Ultralytics YOLOv8.0.43 🚀 Python-3.10.12 torch-2.2.1+cu121 CPU\n",
            "Model summary (fused): 168 layers, 11126358 parameters, 0 gradients, 28.4 GFLOPs\n",
            "\n",
            "image 1/1 /content/sd.PNG: 320x640 7 downs, 7 ups, 400.2ms\n",
            "Speed: 5.8ms preprocess, 400.2ms inference, 1.5ms postprocess per image at shape (1, 3, 640, 640)\n"
          ]
        },
        {
          "output_type": "stream",
          "name": "stdout",
          "text": [
            "tensor([[6.67000e+02, 1.22000e+02, 6.91000e+02, 1.70000e+02, 6.05356e-01, 0.00000e+00],\n",
            "        [1.32000e+02, 2.41000e+02, 1.70000e+02, 3.20000e+02, 5.18922e-01, 1.00000e+00],\n",
            "        [7.05000e+02, 1.51000e+02, 7.22000e+02, 2.04000e+02, 4.83629e-01, 0.00000e+00],\n",
            "        [2.61000e+02, 1.93000e+02, 2.93000e+02, 2.60000e+02, 4.67908e-01, 1.00000e+00],\n",
            "        [2.15000e+02, 1.03000e+02, 2.37000e+02, 1.76000e+02, 4.08346e-01, 0.00000e+00],\n",
            "        [6.00000e+01, 2.82000e+02, 7.90000e+01, 3.70000e+02, 3.44157e-01, 0.00000e+00],\n",
            "        [5.55000e+02, 2.16000e+02, 5.70000e+02, 2.77000e+02, 3.42721e-01, 1.00000e+00],\n",
            "        [5.01000e+02, 1.71000e+02, 5.17000e+02, 2.31000e+02, 3.13579e-01, 0.00000e+00],\n",
            "        [1.99000e+02, 1.30000e+02, 2.16000e+02, 1.96000e+02, 3.09602e-01, 1.00000e+00],\n",
            "        [5.39000e+02, 2.15000e+02, 5.58000e+02, 2.53000e+02, 3.06743e-01, 0.00000e+00],\n",
            "        [6.23000e+02, 1.86000e+02, 6.40000e+02, 2.25000e+02, 2.89771e-01, 1.00000e+00],\n",
            "        [8.60000e+01, 2.82000e+02, 1.24000e+02, 3.75000e+02, 2.69713e-01, 1.00000e+00],\n",
            "        [6.98000e+02, 1.56000e+02, 7.16000e+02, 2.03000e+02, 2.63523e-01, 1.00000e+00],\n",
            "        [1.40000e+01, 3.05000e+02, 3.20000e+01, 3.77000e+02, 2.61356e-01, 0.00000e+00]])\n"
          ]
        }
      ]
    }
  ]
}